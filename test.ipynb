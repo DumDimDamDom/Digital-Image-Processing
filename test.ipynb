{
 "cells": [
  {
   "cell_type": "code",
   "execution_count": null,
   "metadata": {},
   "outputs": [],
   "source": [
    "\n",
    "from loguru import logger\n",
    "from sklearn.metrics import (\n",
    "    accuracy_score,\n",
    "    confusion_matrix,\n",
    "    ConfusionMatrixDisplay,\n",
    "    f1_score,\n",
    "    precision_score,\n",
    "    recall_score,\n",
    ")\n",
    "from tensorflow.data import AUTOTUNE\n",
    "from typing import List\n",
    "\n",
    "from src import (\n",
    "    Dataset as WSI_Dataset,\n",
    "    ModelContext,\n",
    "    ModelFactory,\n",
    ")\n",
    "\n",
    "import matplotlib.pyplot as plt\n",
    "import numpy as np\n",
    "import os\n",
    "import warnings\n",
    "\n",
    "warnings.simplefilter(action=\"ignore\", category=FutureWarning)\n",
    "\n",
    "os.environ[\"TF_GPU_ALLOCATOR\"] = \"cuda_malloc_async\"\n"
   ]
  },
  {
   "cell_type": "code",
   "execution_count": null,
   "metadata": {},
   "outputs": [],
   "source": [
    "\n",
    "VALIDATION_SPLIT = 0.2\n"
   ]
  },
  {
   "cell_type": "code",
   "execution_count": null,
   "metadata": {},
   "outputs": [],
   "source": [
    "\n",
    "contexts: List[ModelContext] = ModelFactory.models()\n",
    "logger.info(\"Available models\\n\" + \"\\n\".join([c.filename for c in contexts]))\n"
   ]
  },
  {
   "cell_type": "code",
   "execution_count": null,
   "metadata": {},
   "outputs": [],
   "source": [
    "\n",
    "_, _, _raw_test_ds = WSI_Dataset.get(validation_split=VALIDATION_SPLIT)\n",
    "\n",
    "class_names = _raw_test_ds.class_names\n",
    "\n",
    "logger.info(f\"Raw test set with {len(_raw_test_ds)} samples and {len(_raw_test_ds.class_names)} of classes, which are {', '.join(_raw_test_ds.class_names)}\")\n",
    "\n",
    "test_ds = _raw_test_ds \\\n",
    "    .batch(1) \\\n",
    "    .cache() \\\n",
    "    .prefetch(buffer_size=AUTOTUNE)\n",
    "\n",
    "logger.info(f\"Test set with {len(test_ds)} samples\")\n"
   ]
  },
  {
   "cell_type": "code",
   "execution_count": null,
   "metadata": {},
   "outputs": [],
   "source": [
    "\n",
    "for c in contexts:\n",
    "\n",
    "    logger.info(f\"Model: {c.filename}\")\n",
    "    c.model.summary()\n",
    "\n",
    "    predictions = c.model.predict(\n",
    "        test_ds,\n",
    "        verbose=1,\n",
    "    )\n",
    "\n",
    "    actual = np.array([l.numpy() for _, l in test_ds])\n",
    "    predicted = np.argmax(predictions, axis=-1)\n",
    "\n",
    "    logger.info(f\"Accuracy: {accuracy_score(actual, predicted)}\")\n",
    "    logger.info(f\"Precision: {precision_score(actual, predicted, average='micro')}\")\n",
    "    logger.info(f\"Sensitivity recall: {recall_score(actual, predicted, average='micro')}\")\n",
    "    logger.info(f\"Specificity: {recall_score(actual, predicted, pos_label=0, average='micro')}\")\n",
    "    logger.info(f\"F1 score: {f1_score(actual, predicted, average='micro')}\")\n",
    "\n",
    "    cm = confusion_matrix(actual, predicted)\n",
    "\n",
    "    cm_display = ConfusionMatrixDisplay(\n",
    "        confusion_matrix=cm,\n",
    "        display_labels=class_names,\n",
    "    )\n",
    "\n",
    "    cm_display.plot(\n",
    "        cmap=\"Blues\",\n",
    "        ax=plt.subplots(figsize=(9, 9))[1]\n",
    "    )\n",
    "\n",
    "    plt.show()\n"
   ]
  }
 ],
 "metadata": {
  "kernelspec": {
   "display_name": "wood-species-identification-hpklw3A5-py3.11",
   "language": "python",
   "name": "python3"
  },
  "language_info": {
   "codemirror_mode": {
    "name": "ipython",
    "version": 3
   },
   "file_extension": ".py",
   "mimetype": "text/x-python",
   "name": "python",
   "nbconvert_exporter": "python",
   "pygments_lexer": "ipython3",
   "version": "3.11.9"
  }
 },
 "nbformat": 4,
 "nbformat_minor": 2
}
